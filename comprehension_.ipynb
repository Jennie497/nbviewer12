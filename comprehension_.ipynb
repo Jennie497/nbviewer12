{
 "cells": [
  {
   "cell_type": "markdown",
   "id": "f247a0a4",
   "metadata": {},
   "source": [
    "c331033김윤진"
   ]
  },
  {
   "cell_type": "markdown",
   "id": "062902b5",
   "metadata": {},
   "source": [
    "# iterable 컴프리헨션"
   ]
  },
  {
   "cell_type": "code",
   "execution_count": 46,
   "id": "bdb03f60",
   "metadata": {},
   "outputs": [
    {
     "name": "stdout",
     "output_type": "stream",
     "text": [
      "nums_comp = [11, 12, 13, 14, 15]\n"
     ]
    }
   ],
   "source": [
    "nums_comp = [num+10 for num in range(1, 6)]\n",
    "print(f'{nums_comp = }')"
   ]
  },
  {
   "cell_type": "code",
   "execution_count": 47,
   "id": "d6b647f3",
   "metadata": {},
   "outputs": [
    {
     "name": "stdout",
     "output_type": "stream",
     "text": [
      "nums_for = [11, 12, 13, 14, 15]\n"
     ]
    }
   ],
   "source": [
    "nums_for =[]\n",
    "\n",
    "for num in range(1, 6):\n",
    " \n",
    "    nums_for.append(num+10)\n",
    "\n",
    "print(f'{nums_for = }')\n"
   ]
  },
  {
   "cell_type": "code",
   "execution_count": 48,
   "id": "6c8c639f",
   "metadata": {},
   "outputs": [
    {
     "data": {
      "text/plain": [
       "15"
      ]
     },
     "execution_count": 48,
     "metadata": {},
     "output_type": "execute_result"
    }
   ],
   "source": [
    "def add_ten(num):\n",
    "    return num + 10\n",
    "\n",
    "add_ten(5)"
   ]
  },
  {
   "cell_type": "code",
   "execution_count": 49,
   "id": "23cca5df",
   "metadata": {},
   "outputs": [
    {
     "data": {
      "text/plain": [
       "<map at 0x1d0e2eccd90>"
      ]
     },
     "execution_count": 49,
     "metadata": {},
     "output_type": "execute_result"
    }
   ],
   "source": [
    "map(add_ten, [1, 2, 3, 4, 5])"
   ]
  },
  {
   "cell_type": "code",
   "execution_count": 50,
   "id": "6f6a6b5f",
   "metadata": {},
   "outputs": [
    {
     "data": {
      "text/plain": [
       "[11, 12, 13, 14, 15]"
      ]
     },
     "execution_count": 50,
     "metadata": {},
     "output_type": "execute_result"
    }
   ],
   "source": [
    "list(map(add_ten, [1, 2, 3, 4, 5]))"
   ]
  },
  {
   "cell_type": "code",
   "execution_count": 51,
   "id": "2bd3f7ff",
   "metadata": {},
   "outputs": [
    {
     "name": "stdout",
     "output_type": "stream",
     "text": [
      "nums_map = [11, 12, 13, 14, 15]\n"
     ]
    }
   ],
   "source": [
    "nums_map = list(map(add_ten, range(1, 6)))\n",
    "print(f'{nums_map = }')"
   ]
  },
  {
   "cell_type": "code",
   "execution_count": 52,
   "id": "532a9dce",
   "metadata": {},
   "outputs": [
    {
     "name": "stdout",
     "output_type": "stream",
     "text": [
      "nums_math = [1, 3, 5, 7, 9]\n"
     ]
    }
   ],
   "source": [
    "nums_math = [num*2-1 for num in range(1, 6)]\n",
    "print(f'{nums_math = }')"
   ]
  },
  {
   "cell_type": "code",
   "execution_count": 53,
   "id": "f3d29d7f",
   "metadata": {},
   "outputs": [
    {
     "name": "stdout",
     "output_type": "stream",
     "text": [
      "nums_func = ['Int_1', 'Int_2', 'Int_3', 'Int_4', 'Int_5']\n"
     ]
    }
   ],
   "source": [
    "def addString(x):\n",
    "    return 'Int_' + str(x)\n",
    "\n",
    "nums_func = [addString(num) for num in range(1, 6)]\n",
    "print(f'{nums_func = }')\n"
   ]
  },
  {
   "cell_type": "code",
   "execution_count": 54,
   "id": "c03ce4fb",
   "metadata": {},
   "outputs": [
    {
     "name": "stdout",
     "output_type": "stream",
     "text": [
      "nums_odds = [1, 3, 5]\n"
     ]
    }
   ],
   "source": [
    "nums_odds = [num for num in range(1, 6) if num % 2 == 1]\n",
    "print(f'{nums_odds = }')"
   ]
  },
  {
   "cell_type": "code",
   "execution_count": 55,
   "id": "8c4d0423",
   "metadata": {},
   "outputs": [
    {
     "name": "stdout",
     "output_type": "stream",
     "text": [
      "nums_odds_zero = [1, 0, 3, 0, 5]\n"
     ]
    }
   ],
   "source": [
    "nums_odds_zero = [num if num % 2 == 1 else 0 for num in range(1, 6)]\n",
    "print(f'{nums_odds_zero = }')"
   ]
  },
  {
   "cell_type": "code",
   "execution_count": 56,
   "id": "5f5c6c57",
   "metadata": {},
   "outputs": [
    {
     "name": "stdout",
     "output_type": "stream",
     "text": [
      "nums_odds_less4 = [1, 3]\n"
     ]
    }
   ],
   "source": [
    "nums_odds_less4 = [num for num in range(1, 6) if num % 2 == 1 if num < 4]\n",
    "print(f'{nums_odds_less4 = }')"
   ]
  },
  {
   "cell_type": "code",
   "execution_count": 57,
   "id": "320980ec",
   "metadata": {},
   "outputs": [
    {
     "name": "stdout",
     "output_type": "stream",
     "text": [
      "nums_pairs = [(1, 'a'), (1, 'b'), (1, 'c'), (2, 'a'), (2, 'b'), (2, 'c')]\n"
     ]
    }
   ],
   "source": [
    "nums_pairs = [(x,y) for x in range(1, 3) for y in ['a', 'b', 'c']]\n",
    "print(f'{nums_pairs = }')"
   ]
  },
  {
   "cell_type": "code",
   "execution_count": 58,
   "id": "dc6c79b4",
   "metadata": {},
   "outputs": [
    {
     "name": "stdout",
     "output_type": "stream",
     "text": [
      "num_pairs_sum5 = [(1, 4), (2, 3), (3, 2), (4, 1)]\n"
     ]
    }
   ],
   "source": [
    "num_pairs_sum5 = [(x,y) for x in range(1, 6) for y in range(1, 6) if x+y==5]\n",
    "print(f'{num_pairs_sum5 = }')\n"
   ]
  },
  {
   "cell_type": "code",
   "execution_count": 59,
   "id": "e1f0c83d",
   "metadata": {},
   "outputs": [
    {
     "name": "stdout",
     "output_type": "stream",
     "text": [
      "students_for = {1: '최딕선', 2: '최딕선', 3: '최딕선', 4: '최딕선'}\n"
     ]
    }
   ],
   "source": [
    "ids = [1, 2, 3, 4]\n",
    "student_names = ['김홍익', '이컴프리', '박헨션', '최딕선']\n",
    "\n",
    "students_for = {id:name for id in ids for name in student_names}\n",
    "\n",
    "print(f'{students_for = }')"
   ]
  },
  {
   "cell_type": "code",
   "execution_count": 60,
   "id": "a8c22e7e",
   "metadata": {},
   "outputs": [
    {
     "name": "stdout",
     "output_type": "stream",
     "text": [
      "students_enumerate = {0: '김홍익', 1: '이컴프리', 2: '박헨션', 3: '최딕선'}\n"
     ]
    }
   ],
   "source": [
    "student_names = ['김홍익', '이컴프리', '박헨션', '최딕선']\n",
    "\n",
    "students_enumerate = {id:name for id, name in enumerate(student_names)}\n",
    "print(f'{students_enumerate = }')"
   ]
  },
  {
   "cell_type": "code",
   "execution_count": 61,
   "id": "ca660938",
   "metadata": {},
   "outputs": [
    {
     "name": "stdout",
     "output_type": "stream",
     "text": [
      "students_for = {1: '최딕선', 2: '최딕선', 3: '최딕선', 4: '최딕선'}\n"
     ]
    }
   ],
   "source": [
    "ids = [1, 2, 3, 4]\n",
    "student_names = ['김홍익', '이컴프리', '박헨션', '최딕선']\n",
    "\n",
    "students_zip = {id:name for id, name in zip(ids, student_names)}\n",
    "\n",
    "print(f'{students_for = }')"
   ]
  },
  {
   "cell_type": "code",
   "execution_count": 62,
   "id": "7cd85f2e",
   "metadata": {},
   "outputs": [
    {
     "name": "stdout",
     "output_type": "stream",
     "text": [
      "sum_list = [2, 3, 4, 5, 6, 3, 4, 5, 6, 7, 4, 5, 6, 7, 8, 5, 6, 7, 8, 9, 6, 7, 8, 9, 10]\n",
      "\n",
      "sum_set = {2, 3, 4, 5, 6, 7, 8, 9, 10}\n"
     ]
    }
   ],
   "source": [
    "sum_list = [x+y for x in range(1, 6) for y in range(1, 6)]\n",
    "\n",
    "print(f'{sum_list = }\\n')\n",
    "\n",
    "sum_set = {x+y for x in range(1, 6) for y in range(1, 6)}\n",
    "\n",
    "print(f'{sum_set = }')\n"
   ]
  },
  {
   "cell_type": "code",
   "execution_count": 63,
   "id": "551ba4e5",
   "metadata": {},
   "outputs": [
    {
     "name": "stdout",
     "output_type": "stream",
     "text": [
      "nums_pairs_list = [(1, 'a'), (1, 'b'), (1, 'c'), (2, 'a'), (2, 'b'), (2, 'c')]\n",
      "\n",
      "nums_pairs_tuple = <generator object <genexpr> at 0x000001D0E2EA8740>\n",
      "tuple(nums_pairs_tuple) = ((1, 'a'), (1, 'b'), (1, 'c'), (2, 'a'), (2, 'b'), (2, 'c'))\n",
      "\n",
      "nums_pairs_tuple2 = ((1, 'a'), (1, 'b'), (1, 'c'), (2, 'a'), (2, 'b'), (2, 'c'))\n"
     ]
    }
   ],
   "source": [
    "nums_pairs_list = [(x,y) for x in range(1, 3) for y in ['a', 'b', 'c']]\n",
    "\n",
    "print(f'{nums_pairs_list = }\\n')\n",
    "\n",
    "nums_pairs_tuple = ((x,y) for x in range(1, 3) for y in ['a', 'b', 'c'])\n",
    "\n",
    "print(f'{nums_pairs_tuple = }')\n",
    "\n",
    "print(f'{tuple(nums_pairs_tuple) = }\\n')\n",
    "\n",
    "nums_pairs_tuple2 = tuple((x,y) for x in range(1, 3) for y in ['a', 'b', 'c'])\n",
    "print(f'{nums_pairs_tuple2 = }')"
   ]
  },
  {
   "cell_type": "markdown",
   "id": "688cba88",
   "metadata": {},
   "source": [
    "# 추가학습내용"
   ]
  },
  {
   "cell_type": "markdown",
   "id": "cd9b9922",
   "metadata": {},
   "source": [
    "def add_ten(num):\n",
    "    return num + 10\n",
    "\n",
    "add_ten('a')는 에러, 문자열 'a'와 정수 10을 더할 수 없기 때문"
   ]
  },
  {
   "cell_type": "code",
   "execution_count": 64,
   "id": "91af9954",
   "metadata": {},
   "outputs": [
    {
     "data": {
      "text/plain": [
       "25"
      ]
     },
     "execution_count": 64,
     "metadata": {},
     "output_type": "execute_result"
    }
   ],
   "source": [
    "def add_ten(num):\n",
    "    return num + 10\n",
    "\n",
    "add_ten(15)"
   ]
  },
  {
   "cell_type": "markdown",
   "id": "7f0b77c2",
   "metadata": {},
   "source": [
    "15에 10을 더해 25를 반환"
   ]
  },
  {
   "cell_type": "markdown",
   "id": "172ac5b7",
   "metadata": {},
   "source": [
    "def add_ten(num):\n",
    "    return num + 10\n",
    "\n",
    "add_ten([1,2,3])에러, 리스트 [1, 2, 3]에 정수 10을 더하려 해 TypeError가 발생"
   ]
  },
  {
   "cell_type": "code",
   "execution_count": 65,
   "id": "dc139ba3",
   "metadata": {},
   "outputs": [
    {
     "data": {
      "text/plain": [
       "25.0"
      ]
     },
     "execution_count": 65,
     "metadata": {},
     "output_type": "execute_result"
    }
   ],
   "source": [
    "def add_ten(num):\n",
    "    return num + 10\n",
    "\n",
    "add_ten(15.0)"
   ]
  },
  {
   "cell_type": "markdown",
   "id": "27df3b26",
   "metadata": {},
   "source": [
    "실수 15.0에 10을 더해 25.0을 반환"
   ]
  },
  {
   "cell_type": "code",
   "execution_count": 66,
   "id": "700e8720",
   "metadata": {},
   "outputs": [
    {
     "data": {
      "text/plain": [
       "<zip at 0x1d0e2ed3000>"
      ]
     },
     "execution_count": 66,
     "metadata": {},
     "output_type": "execute_result"
    }
   ],
   "source": [
    "zip([1,2,3], [4,5,6])"
   ]
  },
  {
   "cell_type": "code",
   "execution_count": 67,
   "id": "2876713c",
   "metadata": {},
   "outputs": [
    {
     "data": {
      "text/plain": [
       "[(1, 4), (2, 5), (3, 6)]"
      ]
     },
     "execution_count": 67,
     "metadata": {},
     "output_type": "execute_result"
    }
   ],
   "source": [
    "list(zip([1,2,3], [4,5,6]))"
   ]
  },
  {
   "cell_type": "markdown",
   "id": "368497f2",
   "metadata": {},
   "source": [
    "리스트를 가져야 값을 반환함."
   ]
  },
  {
   "cell_type": "code",
   "execution_count": 68,
   "id": "5a06d197",
   "metadata": {},
   "outputs": [
    {
     "name": "stdout",
     "output_type": "stream",
     "text": [
      "nums_math = [1, 0, 1, 0, 1]\n"
     ]
    }
   ],
   "source": [
    "nums_math = [num%2 for num in range(1, 6)]\n",
    "print(f'{nums_math = }')"
   ]
  },
  {
   "cell_type": "markdown",
   "id": "7ad42a73",
   "metadata": {},
   "source": [
    "1,2,3,4,5를 2로 나눈 나머지로 출력"
   ]
  },
  {
   "cell_type": "code",
   "execution_count": 69,
   "id": "5f49ba0e",
   "metadata": {},
   "outputs": [
    {
     "data": {
      "text/plain": [
       "['Int_1', 'Int_2', 'Int_3', 'Int_4', 'Int_5']"
      ]
     },
     "execution_count": 69,
     "metadata": {},
     "output_type": "execute_result"
    }
   ],
   "source": [
    "list(map(addString, range(1,6)))"
   ]
  },
  {
   "cell_type": "markdown",
   "id": "5e85b7e0",
   "metadata": {},
   "source": [
    "1부터 5까지의 숫자를 addString = lambda x: '숫자: ' + str(x)에 각각 적용 "
   ]
  },
  {
   "cell_type": "code",
   "execution_count": 70,
   "id": "4d601938",
   "metadata": {},
   "outputs": [
    {
     "data": {
      "text/plain": [
       "['Int_1', 'Int_2', 'Int_3', 'Int_4', 'Int_5']"
      ]
     },
     "execution_count": 70,
     "metadata": {},
     "output_type": "execute_result"
    }
   ],
   "source": [
    "['Int_'+str(num) for num in range(1,6)]"
   ]
  },
  {
   "cell_type": "markdown",
   "id": "0a5dda87",
   "metadata": {},
   "source": [
    "1,2,3,4,5에 'Int_'를 붙여 생성."
   ]
  },
  {
   "cell_type": "code",
   "execution_count": 71,
   "id": "75fa19dc",
   "metadata": {},
   "outputs": [
    {
     "name": "stdout",
     "output_type": "stream",
     "text": [
      "nums_odds = [2, 4]\n"
     ]
    }
   ],
   "source": [
    "nums_odds = [num for num in range(1, 6) if num % 2 == 0]\n",
    "print(f'{nums_odds = }')"
   ]
  },
  {
   "cell_type": "markdown",
   "id": "ed85c800",
   "metadata": {},
   "source": [
    "1부터 5까지 숫자 중 짝수만 골라 출력."
   ]
  },
  {
   "cell_type": "code",
   "execution_count": 72,
   "id": "72f17e0e",
   "metadata": {},
   "outputs": [
    {
     "name": "stdout",
     "output_type": "stream",
     "text": [
      "nums_odds = [3, 6, 9, 12, 15, 18, 21, 24, 27, 30, 33, 36, 39, 42, 45, 48, 51, 54, 57]\n"
     ]
    }
   ],
   "source": [
    "nums_odds = [num for num in range(1, 60) if num % 3 == 0]\n",
    "print(f'{nums_odds = }')"
   ]
  },
  {
   "cell_type": "markdown",
   "id": "a48180bf",
   "metadata": {},
   "source": [
    "1부터 59까지 숫자 중 3의배수만 골라 출력."
   ]
  },
  {
   "cell_type": "code",
   "execution_count": 73,
   "id": "76ff0d27",
   "metadata": {},
   "outputs": [
    {
     "data": {
      "text/plain": [
       "True"
      ]
     },
     "execution_count": 73,
     "metadata": {},
     "output_type": "execute_result"
    }
   ],
   "source": [
    "'a' in 'abcde'"
   ]
  },
  {
   "cell_type": "markdown",
   "id": "0650123c",
   "metadata": {},
   "source": [
    "'a'가 'abcde'에 포함되어 있으므로 True를 반환"
   ]
  },
  {
   "cell_type": "code",
   "execution_count": 74,
   "id": "ba6cbe54",
   "metadata": {},
   "outputs": [
    {
     "data": {
      "text/plain": [
       "False"
      ]
     },
     "execution_count": 74,
     "metadata": {},
     "output_type": "execute_result"
    }
   ],
   "source": [
    "'A' in 'abcde'"
   ]
  },
  {
   "cell_type": "markdown",
   "id": "1fe54b1a",
   "metadata": {},
   "source": [
    "'A'가 'abcde'에 포함되어 있지않으므로 False를 반환"
   ]
  },
  {
   "cell_type": "code",
   "execution_count": 75,
   "id": "c4f2cf10",
   "metadata": {},
   "outputs": [
    {
     "data": {
      "text/plain": [
       "['A', 'B', 'C', 'D', 'E']"
      ]
     },
     "execution_count": 75,
     "metadata": {},
     "output_type": "execute_result"
    }
   ],
   "source": [
    "[ch for ch in 'AaBbCcDdEe' if ch in 'ABCDE']"
   ]
  },
  {
   "cell_type": "markdown",
   "id": "70c83d06",
   "metadata": {},
   "source": [
    "'AaBbCcDdEe'에서 'A', 'B', 'C', 'D', 'E'에 해당하는 문자만 골라 출력."
   ]
  },
  {
   "cell_type": "code",
   "execution_count": 76,
   "id": "dc6483fc",
   "metadata": {},
   "outputs": [
    {
     "data": {
      "text/plain": [
       "['A', 0, 'B', 0, 'C', 0, 'D', 0, 'E', 0]"
      ]
     },
     "execution_count": 76,
     "metadata": {},
     "output_type": "execute_result"
    }
   ],
   "source": [
    "[ch if ch in 'ABCDE' else 0 for ch in 'AaBbCcDdEe']"
   ]
  },
  {
   "cell_type": "markdown",
   "id": "aa725a24",
   "metadata": {},
   "source": [
    "'AaBbCcDdEe'에서 'A', 'B', 'C', 'D', 'E'에 해당하면 그대로, 아니면 0으로 출력."
   ]
  },
  {
   "cell_type": "code",
   "execution_count": 77,
   "id": "1f41266c",
   "metadata": {},
   "outputs": [
    {
     "data": {
      "text/plain": [
       "['__add__',\n",
       " '__class__',\n",
       " '__contains__',\n",
       " '__delattr__',\n",
       " '__dir__',\n",
       " '__doc__',\n",
       " '__eq__',\n",
       " '__format__',\n",
       " '__ge__',\n",
       " '__getattribute__',\n",
       " '__getitem__',\n",
       " '__getnewargs__',\n",
       " '__getstate__',\n",
       " '__gt__',\n",
       " '__hash__',\n",
       " '__init__',\n",
       " '__init_subclass__',\n",
       " '__iter__',\n",
       " '__le__',\n",
       " '__len__',\n",
       " '__lt__',\n",
       " '__mod__',\n",
       " '__mul__',\n",
       " '__ne__',\n",
       " '__new__',\n",
       " '__reduce__',\n",
       " '__reduce_ex__',\n",
       " '__repr__',\n",
       " '__rmod__',\n",
       " '__rmul__',\n",
       " '__setattr__',\n",
       " '__sizeof__',\n",
       " '__str__',\n",
       " '__subclasshook__',\n",
       " 'capitalize',\n",
       " 'casefold',\n",
       " 'center',\n",
       " 'count',\n",
       " 'encode',\n",
       " 'endswith',\n",
       " 'expandtabs',\n",
       " 'find',\n",
       " 'format',\n",
       " 'format_map',\n",
       " 'index',\n",
       " 'isalnum',\n",
       " 'isalpha',\n",
       " 'isascii',\n",
       " 'isdecimal',\n",
       " 'isdigit',\n",
       " 'isidentifier',\n",
       " 'islower',\n",
       " 'isnumeric',\n",
       " 'isprintable',\n",
       " 'isspace',\n",
       " 'istitle',\n",
       " 'isupper',\n",
       " 'join',\n",
       " 'ljust',\n",
       " 'lower',\n",
       " 'lstrip',\n",
       " 'maketrans',\n",
       " 'partition',\n",
       " 'removeprefix',\n",
       " 'removesuffix',\n",
       " 'replace',\n",
       " 'rfind',\n",
       " 'rindex',\n",
       " 'rjust',\n",
       " 'rpartition',\n",
       " 'rsplit',\n",
       " 'rstrip',\n",
       " 'split',\n",
       " 'splitlines',\n",
       " 'startswith',\n",
       " 'strip',\n",
       " 'swapcase',\n",
       " 'title',\n",
       " 'translate',\n",
       " 'upper',\n",
       " 'zfill']"
      ]
     },
     "execution_count": 77,
     "metadata": {},
     "output_type": "execute_result"
    }
   ],
   "source": [
    "dir('AaBbCcDdEe')"
   ]
  },
  {
   "cell_type": "markdown",
   "id": "c9654cb4",
   "metadata": {},
   "source": [
    "문자열 객체가 가지고 있는 모든 속성과 메서드의 목록을 리스트로 반환"
   ]
  },
  {
   "cell_type": "code",
   "execution_count": 78,
   "id": "243fdf59",
   "metadata": {},
   "outputs": [
    {
     "data": {
      "text/plain": [
       "5"
      ]
     },
     "execution_count": 78,
     "metadata": {},
     "output_type": "execute_result"
    }
   ],
   "source": [
    "'AaBbCcDdEe'.find('c')"
   ]
  },
  {
   "cell_type": "markdown",
   "id": "f781c7b8",
   "metadata": {},
   "source": [
    "'c'의 위치를 찾아 5을 반환"
   ]
  },
  {
   "cell_type": "code",
   "execution_count": 79,
   "id": "88dbbcd6",
   "metadata": {},
   "outputs": [
    {
     "data": {
      "text/plain": [
       "1"
      ]
     },
     "execution_count": 79,
     "metadata": {},
     "output_type": "execute_result"
    }
   ],
   "source": [
    "'AaBbCcDdEe'.find('a')"
   ]
  },
  {
   "cell_type": "markdown",
   "id": "8f71a397",
   "metadata": {},
   "source": [
    "'a'의 위치를 찾아 1을 반환"
   ]
  },
  {
   "cell_type": "code",
   "execution_count": 80,
   "id": "a69a216b",
   "metadata": {},
   "outputs": [
    {
     "data": {
      "text/plain": [
       "['A', 1, 'B', 3, 'C', 5, 'D', 7, 'E', 9]"
      ]
     },
     "execution_count": 80,
     "metadata": {},
     "output_type": "execute_result"
    }
   ],
   "source": [
    "[ch if ch in 'ABCDE' else 'AaBbCcDdEe'.find(ch) for ch in 'AaBbCcDdEe']"
   ]
  },
  {
   "cell_type": "markdown",
   "id": "5e6f917a",
   "metadata": {},
   "source": [
    "'A', 'B', 'C', 'D', 'E' 중 하나면 그 문자 그대로 아니면 해당 문자가 'AaBbCcDdEe'에서 위치를 반환"
   ]
  },
  {
   "cell_type": "code",
   "execution_count": 81,
   "id": "ab62e1bd",
   "metadata": {},
   "outputs": [
    {
     "name": "stdout",
     "output_type": "stream",
     "text": [
      "(0, 'A')\n",
      "(1, 'a')\n",
      "(2, 'B')\n",
      "(3, 'b')\n",
      "(4, 'C')\n",
      "(5, 'c')\n",
      "(6, 'D')\n",
      "(7, 'd')\n",
      "(8, 'E')\n",
      "(9, 'e')\n"
     ]
    }
   ],
   "source": [
    "for k in enumerate('AaBbCcDdEe'):\n",
    "    print(k)"
   ]
  },
  {
   "cell_type": "markdown",
   "id": "aa7ff942",
   "metadata": {},
   "source": [
    "문자열의 각 문자에 인덱스를 붙여 (인덱스, 문자) 튜플 출력"
   ]
  },
  {
   "cell_type": "code",
   "execution_count": 82,
   "id": "39febb2b",
   "metadata": {},
   "outputs": [
    {
     "name": "stdout",
     "output_type": "stream",
     "text": [
      "0 A\n",
      "1 a\n",
      "2 B\n",
      "3 b\n",
      "4 C\n",
      "5 c\n",
      "6 D\n",
      "7 d\n",
      "8 E\n",
      "9 e\n"
     ]
    }
   ],
   "source": [
    "for i, ch in enumerate('AaBbCcDdEe'):\n",
    "    print(i, ch)"
   ]
  },
  {
   "cell_type": "markdown",
   "id": "42433c8e",
   "metadata": {},
   "source": [
    "문자열의 각 문자에 인덱스를 붙여 (인덱스, 문자)출력"
   ]
  },
  {
   "cell_type": "code",
   "execution_count": 83,
   "id": "99dd151c",
   "metadata": {},
   "outputs": [
    {
     "name": "stdout",
     "output_type": "stream",
     "text": [
      "num_pairs_sum5 = [(4, 1), (3, 2), (2, 3), (1, 4)]\n"
     ]
    }
   ],
   "source": [
    "num_pairs_sum5 = [(y,x) for x in range(1, 6) for y in range(1, 6) if x+y==5]\n",
    "print(f'{num_pairs_sum5 = }')"
   ]
  },
  {
   "cell_type": "markdown",
   "id": "3bdb5126",
   "metadata": {},
   "source": [
    "x와 y의 자리를 바꾸면 결과도 바꿔서 출력됨."
   ]
  },
  {
   "cell_type": "code",
   "execution_count": 84,
   "id": "54957688",
   "metadata": {},
   "outputs": [
    {
     "name": "stdout",
     "output_type": "stream",
     "text": [
      "students_enumerate = {1: '김홍익', 2: '이컴프리', 3: '박헨션', 4: '최딕선'}\n"
     ]
    }
   ],
   "source": [
    "student_names = ['김홍익', '이컴프리', '박헨션', '최딕선']\n",
    "\n",
    "students_enumerate = {(id+1):name for id, name in enumerate(student_names)}\n",
    "print(f'{students_enumerate = }')"
   ]
  },
  {
   "cell_type": "markdown",
   "id": "7a0cf708",
   "metadata": {},
   "source": [
    "student_names의 이름에 1부터 시작하는 번호를 붙여 딕셔너리로 만들고 출력"
   ]
  },
  {
   "cell_type": "markdown",
   "id": "31c8dab1",
   "metadata": {},
   "source": [
    "**dic과 set 구분**"
   ]
  },
  {
   "cell_type": "code",
   "execution_count": 85,
   "id": "6ffcf18f",
   "metadata": {},
   "outputs": [
    {
     "data": {
      "text/plain": [
       "{'a': 123}"
      ]
     },
     "execution_count": 85,
     "metadata": {},
     "output_type": "execute_result"
    }
   ],
   "source": [
    "{'a' : 123}"
   ]
  },
  {
   "cell_type": "markdown",
   "id": "77ac5485",
   "metadata": {},
   "source": [
    "키 'a'와 값 123으로 구성된 딕셔너리 객체"
   ]
  },
  {
   "cell_type": "markdown",
   "id": "e2027fea",
   "metadata": {},
   "source": [
    "{'a' : 123, 456}는 에러, 딕셔너리 다음에 키가 나와야함. dic으로 인지"
   ]
  },
  {
   "cell_type": "markdown",
   "id": "f90778f4",
   "metadata": {},
   "source": [
    "{456, 'a' : 123}는 에러, set으로 인지 -> 첫 원소를 보고 dict인지 set인지 확인함."
   ]
  },
  {
   "cell_type": "code",
   "execution_count": 86,
   "id": "1d6cd133",
   "metadata": {},
   "outputs": [
    {
     "data": {
      "text/plain": [
       "[(1, 'a'), (1, 'b'), (1, 'c'), (2, 'a'), (2, 'b'), (2, 'c')]"
      ]
     },
     "execution_count": 86,
     "metadata": {},
     "output_type": "execute_result"
    }
   ],
   "source": [
    "[(x,y) for x in range (1, 3) for y in ['a', 'b', 'c']]"
   ]
  },
  {
   "cell_type": "markdown",
   "id": "a8ce6006",
   "metadata": {},
   "source": [
    "1, 2와 'a', 'b', 'c'의 모든 조합을 출력."
   ]
  },
  {
   "cell_type": "code",
   "execution_count": 87,
   "id": "a8b2394c",
   "metadata": {},
   "outputs": [
    {
     "data": {
      "text/plain": [
       "[(1, 'a'), (1, 'b'), (1, 'c'), (2, 'a'), (2, 'b'), (2, 'c')]"
      ]
     },
     "execution_count": 87,
     "metadata": {},
     "output_type": "execute_result"
    }
   ],
   "source": [
    "list([(x,y) for x in range (1, 3) for y in ['a', 'b', 'c']])"
   ]
  },
  {
   "cell_type": "markdown",
   "id": "1ddb17f8",
   "metadata": {},
   "source": [
    "리스트로 감싸 결과 출력."
   ]
  },
  {
   "cell_type": "code",
   "execution_count": 88,
   "id": "b4cb1db9",
   "metadata": {},
   "outputs": [
    {
     "data": {
      "text/plain": [
       "((1, 'a'), (1, 'b'), (1, 'c'), (2, 'a'), (2, 'b'), (2, 'c'))"
      ]
     },
     "execution_count": 88,
     "metadata": {},
     "output_type": "execute_result"
    }
   ],
   "source": [
    "tuple([(x,y) for x in range (1, 3) for y in ['a', 'b', 'c']])"
   ]
  },
  {
   "cell_type": "markdown",
   "id": "10f359e5",
   "metadata": {},
   "source": [
    "튜플 안에 여러 개의 (x, y) 튜플이 들어감."
   ]
  },
  {
   "cell_type": "code",
   "execution_count": 89,
   "id": "21d2e889",
   "metadata": {},
   "outputs": [
    {
     "data": {
      "text/plain": [
       "{(1, 'a'), (1, 'b'), (1, 'c'), (2, 'a'), (2, 'b'), (2, 'c')}"
      ]
     },
     "execution_count": 89,
     "metadata": {},
     "output_type": "execute_result"
    }
   ],
   "source": [
    "set([(x,y) for x in range (1, 3) for y in ['a', 'b', 'c']])"
   ]
  },
  {
   "cell_type": "markdown",
   "id": "b97f627a",
   "metadata": {},
   "source": [
    "중복 없는 (x, y)의 set을 생성"
   ]
  },
  {
   "cell_type": "code",
   "execution_count": 90,
   "id": "31f35888",
   "metadata": {},
   "outputs": [
    {
     "data": {
      "text/plain": [
       "{1: 'c', 2: 'c'}"
      ]
     },
     "execution_count": 90,
     "metadata": {},
     "output_type": "execute_result"
    }
   ],
   "source": [
    "dict([(x,y) for x in range (1, 3) for y in ['a', 'b', 'c']])"
   ]
  },
  {
   "cell_type": "markdown",
   "id": "902c8b8a",
   "metadata": {},
   "source": [
    "딕셔너리가 오류 없이 실행되지만 마지막 키만 남음."
   ]
  }
 ],
 "metadata": {
  "kernelspec": {
   "display_name": "base",
   "language": "python",
   "name": "python3"
  },
  "language_info": {
   "codemirror_mode": {
    "name": "ipython",
    "version": 3
   },
   "file_extension": ".py",
   "mimetype": "text/x-python",
   "name": "python",
   "nbconvert_exporter": "python",
   "pygments_lexer": "ipython3",
   "version": "3.12.9"
  }
 },
 "nbformat": 4,
 "nbformat_minor": 5
}
